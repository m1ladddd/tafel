{
 "cells": [
  {
   "cell_type": "code",
   "execution_count": 8,
   "metadata": {},
   "outputs": [
    {
     "name": "stdout",
     "output_type": "stream",
     "text": [
      "Connected with result code 0\n",
      "{\"Generation\":{\"now\":21.392},\"Load\":{\"now\":22.092},\"Storage\":{\"now\":0.7}}\n",
      "                            Generation    Load  Storage\n",
      "2023-11-21 11:40:56.243301      21.392  22.092      0.7\n"
     ]
    },
    {
     "name": "stderr",
     "output_type": "stream",
     "text": [
      "C:\\Users\\Thijs Laptop\\AppData\\Local\\Temp\\ipykernel_22036\\1681239735.py:30: FutureWarning: The parsing of 'now' in pd.to_datetime without `utc=True` is deprecated. In a future version, this will match Timestamp('now') and Timestamp.now()\n",
      "  df=pd.read_json(message)\n"
     ]
    }
   ],
   "source": [
    "%matplotlib\n",
    "from ipywidgets import interact\n",
    "import paho.mqtt.client as mqtt\n",
    "import pandas as pd\n",
    "import matplotlib.pyplot as plt\n",
    "import ipywidgets as widgets\n",
    "import seaborn as sns\n",
    "import time as time\n",
    "from matplotlib.widgets import Button, CheckButtons\n",
    "import json\n",
    "message_buffer=[]\n",
    "def on_connect(client, userdata, flags, rc):\n",
    "    print(\"Connected with result code \"+str(rc))\n",
    "    client.subscribe(\"SmartDemoTable2/Jupyter/Outgoing\")\n",
    "\n",
    "def on_message(client, userdata, msg):\n",
    "    json_data=msg.payload.decode('utf-8')\n",
    "    print(json_data)\n",
    "    message_buffer.append(json_data)\n",
    "\n",
    "client = mqtt.Client()\n",
    "client.on_connect = on_connect\n",
    "client.on_message = on_message\n",
    "\n",
    "client.connect(\"broker.hivemq.com\")\n",
    "client.loop_start()\n",
    "client.publish(\"SmartDemoTable2/Jupyter/Ingoing\",\"summation\")\n",
    "while not message_buffer:\n",
    "    pass\n",
    "message=message_buffer.pop(0)\n",
    "df=pd.read_json(message)\n",
    "print(df)\n",
    "message_buffer.clear()"
   ]
  },
  {
   "cell_type": "code",
   "execution_count": 11,
   "metadata": {},
   "outputs": [
    {
     "name": "stdout",
     "output_type": "stream",
     "text": [
      "{\"Table1_1071771887_Gen0\":{\"now\":15.192}}\n"
     ]
    },
    {
     "name": "stderr",
     "output_type": "stream",
     "text": [
      "C:\\Users\\Thijs Laptop\\AppData\\Local\\Temp\\ipykernel_22036\\3193810919.py:5: FutureWarning: The parsing of 'now' in pd.to_datetime without `utc=True` is deprecated. In a future version, this will match Timestamp('now') and Timestamp.now()\n",
      "  df=pd.read_json(message_buffer.pop(0))\n"
     ]
    },
    {
     "data": {
      "text/plain": [
       "<pandas.plotting._core.PlotAccessor object at 0x00000150B9FAE100>"
      ]
     },
     "execution_count": 11,
     "metadata": {},
     "output_type": "execute_result"
    }
   ],
   "source": [
    "sns.set_theme()\n",
    "client.publish(\"SmartDemoTable2/Jupyter/Ingoing\",\"module generation Table1\")\n",
    "while not message_buffer:\n",
    "    pass\n",
    "df=pd.read_json(message_buffer.pop(0))\n",
    "df.plot"
   ]
  },
  {
   "cell_type": "code",
   "execution_count": 11,
   "metadata": {},
   "outputs": [
    {
     "data": {
      "application/vnd.jupyter.widget-view+json": {
       "model_id": "6c0758739f5e4292b33be66a4861a2b6",
       "version_major": 2,
       "version_minor": 0
      },
      "text/plain": [
       "interactive(children=(Dropdown(description='Select voltage:', options=('HV', 'MV', 'LV'), value='HV'), Output(…"
      ]
     },
     "metadata": {},
     "output_type": "display_data"
    },
    {
     "data": {
      "text/plain": [
       "<function __main__.f(x)>"
      ]
     },
     "execution_count": 11,
     "metadata": {},
     "output_type": "execute_result"
    },
    {
     "name": "stdout",
     "output_type": "stream",
     "text": [
      "index 20\n"
     ]
    }
   ],
   "source": [
    "sns.set_theme(style=\"darkgrid\")\n",
    "dropdown=widgets.Dropdown(\n",
    "    options=['HV','MV','LV'],\n",
    "    description='Select voltage:',\n",
    "    value='HV',\n",
    "    disabled=False,\n",
    ")\n",
    "figure,ax=plt.subplots()\n",
    "def onpick(event):\n",
    "    artist = event.artist\n",
    "    xmouse, ymouse = event.mouseevent.xdata, event.mouseevent.ydata\n",
    "    x, y = artist.get_xdata(), artist.get_ydata()\n",
    "    ind = event.ind\n",
    "    message=\"index \"+str(ind[0])\n",
    "    print(message)\n",
    "def f(x):\n",
    "    global df\n",
    "    message_buffer.clear()\n",
    "    buffer=\"voltage \"+x\n",
    "    client.publish(\"SmartDemoTable2/Jupyter/Ingoing\",buffer)\n",
    "    while not message_buffer:\n",
    "        pass\n",
    "    message=message_buffer.pop(0)\n",
    "    df=pd.read_json(message)\n",
    "    ax.clear()\n",
    "    df.plot(kind='line',ax=ax,picker=4)\n",
    "    \n",
    "ax.figure.canvas.mpl_connect(\"pick_event\", onpick)\n",
    "interact(f,x=dropdown)"
   ]
  }
 ],
 "metadata": {
  "kernelspec": {
   "display_name": "Python 3",
   "language": "python",
   "name": "python3"
  },
  "language_info": {
   "codemirror_mode": {
    "name": "ipython",
    "version": 3
   },
   "file_extension": ".py",
   "mimetype": "text/x-python",
   "name": "python",
   "nbconvert_exporter": "python",
   "pygments_lexer": "ipython3",
   "version": "3.9.4"
  },
  "orig_nbformat": 4
 },
 "nbformat": 4,
 "nbformat_minor": 2
}
